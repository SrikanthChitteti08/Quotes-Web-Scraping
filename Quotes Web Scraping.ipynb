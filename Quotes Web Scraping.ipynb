{
 "cells": [
  {
   "cell_type": "markdown",
   "id": "25e91448-8f37-4579-b324-42cad267929c",
   "metadata": {},
   "source": [
    "### Import Libraries"
   ]
  },
  {
   "cell_type": "code",
   "execution_count": 43,
   "id": "99e70317-be1a-4711-af19-17c8910b3743",
   "metadata": {},
   "outputs": [],
   "source": [
    "import pandas as pd\n",
    "import requests\n",
    "from bs4 import BeautifulSoup\n",
    "from tqdm import tqdm"
   ]
  },
  {
   "cell_type": "markdown",
   "id": "16914a31-eb16-4457-adae-18175214273e",
   "metadata": {},
   "source": [
    "### To Load BeautifulSoup"
   ]
  },
  {
   "cell_type": "code",
   "execution_count": 44,
   "id": "d18fad84-06e0-4ac2-89e2-d40864a5e0db",
   "metadata": {},
   "outputs": [
    {
     "name": "stdout",
     "output_type": "stream",
     "text": [
      "The world as we have created it is a process of our thinking. It cannot be changed without changing our thinking.\n"
     ]
    }
   ],
   "source": [
    "res = requests.get('https://quotes.toscrape.com/')\n",
    "soup = BeautifulSoup(res.text, 'html.parser')\n",
    "print(soup.find('span', class_ = 'text').text[1:-1])"
   ]
  },
  {
   "cell_type": "markdown",
   "id": "55deee86-d79d-4308-94e4-001f8734ddb3",
   "metadata": {},
   "source": [
    "### Quotes Scraping  In First Page"
   ]
  },
  {
   "cell_type": "code",
   "execution_count": 45,
   "id": "312d46d6-87d6-4988-a161-45e344c7fd3c",
   "metadata": {},
   "outputs": [
    {
     "data": {
      "text/plain": [
       "['The world as we have created it is a process of our thinking. It cannot be changed without changing our thinking.',\n",
       " 'It is our choices, Harry, that show what we truly are, far more than our abilities.',\n",
       " 'There are only two ways to live your life. One is as though nothing is a miracle. The other is as though everything is a miracle.',\n",
       " 'The person, be it gentleman or lady, who has not pleasure in a good novel, must be intolerably stupid.',\n",
       " \"Imperfection is beauty, madness is genius and it's better to be absolutely ridiculous than absolutely boring.\",\n",
       " 'Try not to become a man of success. Rather become a man of value.',\n",
       " 'It is better to be hated for what you are than to be loved for what you are not.',\n",
       " \"I have not failed. I've just found 10,000 ways that won't work.\",\n",
       " \"A woman is like a tea bag; you never know how strong it is until it's in hot water.\",\n",
       " 'A day without sunshine is like, you know, night.']"
      ]
     },
     "execution_count": 45,
     "metadata": {},
     "output_type": "execute_result"
    }
   ],
   "source": [
    "quotes = []\n",
    "for i in soup.find_all('span', class_ = 'text'):\n",
    "    quotes.append(i.text[1:-1])\n",
    "quotes"
   ]
  },
  {
   "cell_type": "markdown",
   "id": "22e46426-9afc-4f94-9f5a-2c726705b834",
   "metadata": {},
   "source": [
    "### Scraping All The Details Of Quotes In First Page"
   ]
  },
  {
   "cell_type": "code",
   "execution_count": 46,
   "id": "a5ef45c4-ff65-4039-9585-a9490fde6365",
   "metadata": {},
   "outputs": [],
   "source": [
    "data = []\n",
    "\n",
    "for sp in soup.find_all('div', class_ = 'quote'):\n",
    "    \n",
    "    quote       = sp.find('span', class_ = 'text').text[1:-1]\n",
    "    author_name = sp.find('small').text\n",
    "    author_id   = sp.find('a').get('href')\n",
    "    \n",
    "    tags        = []\n",
    "    for tag in sp.find_all('a', class_ = 'tag'):\n",
    "        tags.append(tag.text)\n",
    "    tags = ','.join(tags)\n",
    "    data.append([quote, author_name, author_id, tags])   "
   ]
  },
  {
   "cell_type": "markdown",
   "id": "097ff3a8-1845-4237-aca0-dfec5a412083",
   "metadata": {},
   "source": [
    "### Created a DataFrame "
   ]
  },
  {
   "cell_type": "code",
   "execution_count": 47,
   "id": "68418948-4809-4131-bd6f-89d48369847d",
   "metadata": {},
   "outputs": [
    {
     "data": {
      "text/html": [
       "<div>\n",
       "<style scoped>\n",
       "    .dataframe tbody tr th:only-of-type {\n",
       "        vertical-align: middle;\n",
       "    }\n",
       "\n",
       "    .dataframe tbody tr th {\n",
       "        vertical-align: top;\n",
       "    }\n",
       "\n",
       "    .dataframe thead th {\n",
       "        text-align: right;\n",
       "    }\n",
       "</style>\n",
       "<table border=\"1\" class=\"dataframe\">\n",
       "  <thead>\n",
       "    <tr style=\"text-align: right;\">\n",
       "      <th></th>\n",
       "      <th>quote</th>\n",
       "      <th>author_name</th>\n",
       "      <th>author_id</th>\n",
       "      <th>tags</th>\n",
       "    </tr>\n",
       "  </thead>\n",
       "  <tbody>\n",
       "    <tr>\n",
       "      <th>0</th>\n",
       "      <td>The world as we have created it is a process o...</td>\n",
       "      <td>Albert Einstein</td>\n",
       "      <td>/author/Albert-Einstein</td>\n",
       "      <td>change,deep-thoughts,thinking,world</td>\n",
       "    </tr>\n",
       "    <tr>\n",
       "      <th>1</th>\n",
       "      <td>It is our choices, Harry, that show what we tr...</td>\n",
       "      <td>J.K. Rowling</td>\n",
       "      <td>/author/J-K-Rowling</td>\n",
       "      <td>abilities,choices</td>\n",
       "    </tr>\n",
       "    <tr>\n",
       "      <th>2</th>\n",
       "      <td>There are only two ways to live your life. One...</td>\n",
       "      <td>Albert Einstein</td>\n",
       "      <td>/author/Albert-Einstein</td>\n",
       "      <td>inspirational,life,live,miracle,miracles</td>\n",
       "    </tr>\n",
       "    <tr>\n",
       "      <th>3</th>\n",
       "      <td>The person, be it gentleman or lady, who has n...</td>\n",
       "      <td>Jane Austen</td>\n",
       "      <td>/author/Jane-Austen</td>\n",
       "      <td>aliteracy,books,classic,humor</td>\n",
       "    </tr>\n",
       "    <tr>\n",
       "      <th>4</th>\n",
       "      <td>Imperfection is beauty, madness is genius and ...</td>\n",
       "      <td>Marilyn Monroe</td>\n",
       "      <td>/author/Marilyn-Monroe</td>\n",
       "      <td>be-yourself,inspirational</td>\n",
       "    </tr>\n",
       "    <tr>\n",
       "      <th>5</th>\n",
       "      <td>Try not to become a man of success. Rather bec...</td>\n",
       "      <td>Albert Einstein</td>\n",
       "      <td>/author/Albert-Einstein</td>\n",
       "      <td>adulthood,success,value</td>\n",
       "    </tr>\n",
       "    <tr>\n",
       "      <th>6</th>\n",
       "      <td>It is better to be hated for what you are than...</td>\n",
       "      <td>André Gide</td>\n",
       "      <td>/author/Andre-Gide</td>\n",
       "      <td>life,love</td>\n",
       "    </tr>\n",
       "    <tr>\n",
       "      <th>7</th>\n",
       "      <td>I have not failed. I've just found 10,000 ways...</td>\n",
       "      <td>Thomas A. Edison</td>\n",
       "      <td>/author/Thomas-A-Edison</td>\n",
       "      <td>edison,failure,inspirational,paraphrased</td>\n",
       "    </tr>\n",
       "    <tr>\n",
       "      <th>8</th>\n",
       "      <td>A woman is like a tea bag; you never know how ...</td>\n",
       "      <td>Eleanor Roosevelt</td>\n",
       "      <td>/author/Eleanor-Roosevelt</td>\n",
       "      <td>misattributed-eleanor-roosevelt</td>\n",
       "    </tr>\n",
       "    <tr>\n",
       "      <th>9</th>\n",
       "      <td>A day without sunshine is like, you know, night.</td>\n",
       "      <td>Steve Martin</td>\n",
       "      <td>/author/Steve-Martin</td>\n",
       "      <td>humor,obvious,simile</td>\n",
       "    </tr>\n",
       "  </tbody>\n",
       "</table>\n",
       "</div>"
      ],
      "text/plain": [
       "                                               quote        author_name  \\\n",
       "0  The world as we have created it is a process o...    Albert Einstein   \n",
       "1  It is our choices, Harry, that show what we tr...       J.K. Rowling   \n",
       "2  There are only two ways to live your life. One...    Albert Einstein   \n",
       "3  The person, be it gentleman or lady, who has n...        Jane Austen   \n",
       "4  Imperfection is beauty, madness is genius and ...     Marilyn Monroe   \n",
       "5  Try not to become a man of success. Rather bec...    Albert Einstein   \n",
       "6  It is better to be hated for what you are than...         André Gide   \n",
       "7  I have not failed. I've just found 10,000 ways...   Thomas A. Edison   \n",
       "8  A woman is like a tea bag; you never know how ...  Eleanor Roosevelt   \n",
       "9   A day without sunshine is like, you know, night.       Steve Martin   \n",
       "\n",
       "                   author_id                                      tags  \n",
       "0    /author/Albert-Einstein       change,deep-thoughts,thinking,world  \n",
       "1        /author/J-K-Rowling                         abilities,choices  \n",
       "2    /author/Albert-Einstein  inspirational,life,live,miracle,miracles  \n",
       "3        /author/Jane-Austen             aliteracy,books,classic,humor  \n",
       "4     /author/Marilyn-Monroe                 be-yourself,inspirational  \n",
       "5    /author/Albert-Einstein                   adulthood,success,value  \n",
       "6         /author/Andre-Gide                                 life,love  \n",
       "7    /author/Thomas-A-Edison  edison,failure,inspirational,paraphrased  \n",
       "8  /author/Eleanor-Roosevelt           misattributed-eleanor-roosevelt  \n",
       "9       /author/Steve-Martin                      humor,obvious,simile  "
      ]
     },
     "execution_count": 47,
     "metadata": {},
     "output_type": "execute_result"
    }
   ],
   "source": [
    "pd.DataFrame(data, columns = ['quote', 'author_name', 'author_id', 'tags'])"
   ]
  },
  {
   "cell_type": "markdown",
   "id": "21e0eb3f-eff2-4d79-9fda-dae90d1281af",
   "metadata": {},
   "source": [
    "### Scraping Quotes For All Pages"
   ]
  },
  {
   "cell_type": "code",
   "execution_count": null,
   "id": "cf051898-f39e-4dae-bad0-008626d8a94d",
   "metadata": {},
   "outputs": [],
   "source": [
    "data = []\n",
    "for page in tqdm(range(1,11)):\n",
    "    \n",
    "    link = 'https://quotes.toscrape.com/page/' + str(page)\n",
    "    res = requests.get(link)\n",
    "    soup = BeautifulSoup(res.text, 'html.parser')\n",
    "    \n",
    "    for sp in soup.find_all('div', class_ = 'quote'):\n",
    "\n",
    "        author_id = sp.find('a').get('href')\n",
    "        author_name = sp.find('small', class_ = 'author').text\n",
    "        quote = sp.find('span', class_ = 'text').text[1:-1]\n",
    "        \n",
    "        tags = []\n",
    "        for tag in sp.find_all('a', class_ = 'tag'):\n",
    "            tags.append(tag.text)\n",
    "        tags = ','.join(tags)\n",
    "        data.append([author_id, author_name, tags, quote])"
   ]
  },
  {
   "cell_type": "markdown",
   "id": "12b0c706-aaaf-46b4-8455-ed3abf6da734",
   "metadata": {},
   "source": [
    "### Created a DataFrame For All Pages Of Quotes Websites"
   ]
  },
  {
   "cell_type": "code",
   "execution_count": 53,
   "id": "478ca7dd-bf5a-48db-accb-9799990adabb",
   "metadata": {},
   "outputs": [],
   "source": [
    "df = pd.DataFrame(data, columns = ['author_id', 'author_name', 'tags', 'quote'])"
   ]
  },
  {
   "cell_type": "code",
   "execution_count": 54,
   "id": "332c5b6a-6b9e-4a60-82ce-d5b59562c9fb",
   "metadata": {},
   "outputs": [
    {
     "data": {
      "text/html": [
       "<div>\n",
       "<style scoped>\n",
       "    .dataframe tbody tr th:only-of-type {\n",
       "        vertical-align: middle;\n",
       "    }\n",
       "\n",
       "    .dataframe tbody tr th {\n",
       "        vertical-align: top;\n",
       "    }\n",
       "\n",
       "    .dataframe thead th {\n",
       "        text-align: right;\n",
       "    }\n",
       "</style>\n",
       "<table border=\"1\" class=\"dataframe\">\n",
       "  <thead>\n",
       "    <tr style=\"text-align: right;\">\n",
       "      <th></th>\n",
       "      <th>author_id</th>\n",
       "      <th>author_name</th>\n",
       "      <th>tags</th>\n",
       "      <th>quote</th>\n",
       "    </tr>\n",
       "  </thead>\n",
       "  <tbody>\n",
       "    <tr>\n",
       "      <th>0</th>\n",
       "      <td>/author/Albert-Einstein</td>\n",
       "      <td>Albert Einstein</td>\n",
       "      <td>change,deep-thoughts,thinking,world</td>\n",
       "      <td>The world as we have created it is a process o...</td>\n",
       "    </tr>\n",
       "    <tr>\n",
       "      <th>1</th>\n",
       "      <td>/author/J-K-Rowling</td>\n",
       "      <td>J.K. Rowling</td>\n",
       "      <td>abilities,choices</td>\n",
       "      <td>It is our choices, Harry, that show what we tr...</td>\n",
       "    </tr>\n",
       "    <tr>\n",
       "      <th>2</th>\n",
       "      <td>/author/Albert-Einstein</td>\n",
       "      <td>Albert Einstein</td>\n",
       "      <td>inspirational,life,live,miracle,miracles</td>\n",
       "      <td>There are only two ways to live your life. One...</td>\n",
       "    </tr>\n",
       "    <tr>\n",
       "      <th>3</th>\n",
       "      <td>/author/Jane-Austen</td>\n",
       "      <td>Jane Austen</td>\n",
       "      <td>aliteracy,books,classic,humor</td>\n",
       "      <td>The person, be it gentleman or lady, who has n...</td>\n",
       "    </tr>\n",
       "    <tr>\n",
       "      <th>4</th>\n",
       "      <td>/author/Marilyn-Monroe</td>\n",
       "      <td>Marilyn Monroe</td>\n",
       "      <td>be-yourself,inspirational</td>\n",
       "      <td>Imperfection is beauty, madness is genius and ...</td>\n",
       "    </tr>\n",
       "    <tr>\n",
       "      <th>...</th>\n",
       "      <td>...</td>\n",
       "      <td>...</td>\n",
       "      <td>...</td>\n",
       "      <td>...</td>\n",
       "    </tr>\n",
       "    <tr>\n",
       "      <th>95</th>\n",
       "      <td>/author/Harper-Lee</td>\n",
       "      <td>Harper Lee</td>\n",
       "      <td>better-life-empathy</td>\n",
       "      <td>You never really understand a person until you...</td>\n",
       "    </tr>\n",
       "    <tr>\n",
       "      <th>96</th>\n",
       "      <td>/author/Madeleine-LEngle</td>\n",
       "      <td>Madeleine L'Engle</td>\n",
       "      <td>books,children,difficult,grown-ups,write,write...</td>\n",
       "      <td>You have to write the book that wants to be wr...</td>\n",
       "    </tr>\n",
       "    <tr>\n",
       "      <th>97</th>\n",
       "      <td>/author/Mark-Twain</td>\n",
       "      <td>Mark Twain</td>\n",
       "      <td>truth</td>\n",
       "      <td>Never tell the truth to people who are not wor...</td>\n",
       "    </tr>\n",
       "    <tr>\n",
       "      <th>98</th>\n",
       "      <td>/author/Dr-Seuss</td>\n",
       "      <td>Dr. Seuss</td>\n",
       "      <td>inspirational</td>\n",
       "      <td>A person's a person, no matter how small.</td>\n",
       "    </tr>\n",
       "    <tr>\n",
       "      <th>99</th>\n",
       "      <td>/author/George-R-R-Martin</td>\n",
       "      <td>George R.R. Martin</td>\n",
       "      <td>books,mind</td>\n",
       "      <td>... a mind needs books as a sword needs a whet...</td>\n",
       "    </tr>\n",
       "  </tbody>\n",
       "</table>\n",
       "<p>100 rows × 4 columns</p>\n",
       "</div>"
      ],
      "text/plain": [
       "                    author_id         author_name  \\\n",
       "0     /author/Albert-Einstein     Albert Einstein   \n",
       "1         /author/J-K-Rowling        J.K. Rowling   \n",
       "2     /author/Albert-Einstein     Albert Einstein   \n",
       "3         /author/Jane-Austen         Jane Austen   \n",
       "4      /author/Marilyn-Monroe      Marilyn Monroe   \n",
       "..                        ...                 ...   \n",
       "95         /author/Harper-Lee          Harper Lee   \n",
       "96   /author/Madeleine-LEngle   Madeleine L'Engle   \n",
       "97         /author/Mark-Twain          Mark Twain   \n",
       "98           /author/Dr-Seuss           Dr. Seuss   \n",
       "99  /author/George-R-R-Martin  George R.R. Martin   \n",
       "\n",
       "                                                 tags  \\\n",
       "0                 change,deep-thoughts,thinking,world   \n",
       "1                                   abilities,choices   \n",
       "2            inspirational,life,live,miracle,miracles   \n",
       "3                       aliteracy,books,classic,humor   \n",
       "4                           be-yourself,inspirational   \n",
       "..                                                ...   \n",
       "95                                better-life-empathy   \n",
       "96  books,children,difficult,grown-ups,write,write...   \n",
       "97                                              truth   \n",
       "98                                      inspirational   \n",
       "99                                         books,mind   \n",
       "\n",
       "                                                quote  \n",
       "0   The world as we have created it is a process o...  \n",
       "1   It is our choices, Harry, that show what we tr...  \n",
       "2   There are only two ways to live your life. One...  \n",
       "3   The person, be it gentleman or lady, who has n...  \n",
       "4   Imperfection is beauty, madness is genius and ...  \n",
       "..                                                ...  \n",
       "95  You never really understand a person until you...  \n",
       "96  You have to write the book that wants to be wr...  \n",
       "97  Never tell the truth to people who are not wor...  \n",
       "98          A person's a person, no matter how small.  \n",
       "99  ... a mind needs books as a sword needs a whet...  \n",
       "\n",
       "[100 rows x 4 columns]"
      ]
     },
     "execution_count": 54,
     "metadata": {},
     "output_type": "execute_result"
    }
   ],
   "source": [
    "df"
   ]
  },
  {
   "cell_type": "markdown",
   "id": "001550de-0d58-4b93-9901-5ba60d397251",
   "metadata": {},
   "source": [
    "### Save The Quotes Dataset "
   ]
  },
  {
   "cell_type": "code",
   "execution_count": 57,
   "id": "774fcf42-ce07-490a-97f1-58e67edc6e7d",
   "metadata": {},
   "outputs": [],
   "source": [
    "df.to_csv('Quotes.csv', index = False)"
   ]
  },
  {
   "cell_type": "code",
   "execution_count": null,
   "id": "d49f61b2-875e-4ce7-b003-a49c40adbbf9",
   "metadata": {},
   "outputs": [],
   "source": []
  },
  {
   "cell_type": "code",
   "execution_count": null,
   "id": "fe25d0c3-ae85-43c7-bc80-21376fe9618b",
   "metadata": {},
   "outputs": [],
   "source": [
    "df['author_link'] = 'https://quotes.toscrape.com' + df['author_id']"
   ]
  },
  {
   "cell_type": "code",
   "execution_count": 49,
   "id": "3d20d8fa-d2ad-4dae-928b-97446cc325de",
   "metadata": {},
   "outputs": [
    {
     "data": {
      "text/plain": [
       "'... a mind needs books as a sword needs a whetstone, if it is to keep its edge.'"
      ]
     },
     "execution_count": 49,
     "metadata": {},
     "output_type": "execute_result"
    }
   ],
   "source": [
    "quote = sp.find('span', class_ = 'text').text[1:-1]\n",
    "quote"
   ]
  },
  {
   "cell_type": "code",
   "execution_count": 50,
   "id": "5b364312-4795-4f2f-a14b-2d326764253c",
   "metadata": {},
   "outputs": [
    {
     "data": {
      "text/plain": [
       "'George R.R. Martin'"
      ]
     },
     "execution_count": 50,
     "metadata": {},
     "output_type": "execute_result"
    }
   ],
   "source": [
    "author_name = sp.find('small', class_ = 'author').text\n",
    "author_name"
   ]
  },
  {
   "cell_type": "code",
   "execution_count": 51,
   "id": "99818034-3eb7-4114-9df3-c66e5c1a2236",
   "metadata": {},
   "outputs": [
    {
     "data": {
      "text/plain": [
       "'/author/George-R-R-Martin'"
      ]
     },
     "execution_count": 51,
     "metadata": {},
     "output_type": "execute_result"
    }
   ],
   "source": [
    "author_id = sp.find('a').get('href')\n",
    "author_id"
   ]
  },
  {
   "cell_type": "code",
   "execution_count": 52,
   "id": "54e624af-3000-47c8-940a-64af66d7a91e",
   "metadata": {},
   "outputs": [],
   "source": [
    "tags = []\n",
    "for tag in sp.find_all('a', class_ = 'tag'):\n",
    "    tags.append(tag.text)\n",
    "tags = ','.join(tags)"
   ]
  },
  {
   "cell_type": "code",
   "execution_count": 6,
   "id": "19bace50-d4b3-4af2-9bbf-a0ca189edb30",
   "metadata": {},
   "outputs": [
    {
     "data": {
      "text/plain": [
       "'“A day without sunshine is like, you know, night.”'"
      ]
     },
     "execution_count": 6,
     "metadata": {},
     "output_type": "execute_result"
    }
   ],
   "source": [
    "quote = sp.find('span', class_ = 'text')\n",
    "quote.text"
   ]
  },
  {
   "cell_type": "code",
   "execution_count": 7,
   "id": "9f3100f6-7132-4cb0-844f-26187a6b22c6",
   "metadata": {},
   "outputs": [
    {
     "data": {
      "text/plain": [
       "'Steve Martin'"
      ]
     },
     "execution_count": 7,
     "metadata": {},
     "output_type": "execute_result"
    }
   ],
   "source": [
    "author_name = sp.find('small', class_ = 'author')\n",
    "author_name.text"
   ]
  },
  {
   "cell_type": "code",
   "execution_count": 8,
   "id": "9d2308f5-a051-4603-bf3f-ebe791d9cee9",
   "metadata": {},
   "outputs": [
    {
     "data": {
      "text/plain": [
       "'/author/Steve-Martin'"
      ]
     },
     "execution_count": 8,
     "metadata": {},
     "output_type": "execute_result"
    }
   ],
   "source": [
    "author_id = sp.find('a').get('href')\n",
    "author_id"
   ]
  },
  {
   "cell_type": "code",
   "execution_count": 9,
   "id": "8f071afb-e614-4936-a37e-9d16677f1914",
   "metadata": {},
   "outputs": [],
   "source": [
    "tags = []\n",
    "for tag in sp.find_all('a', class_ = 'tag'):\n",
    "    tags.append(tag.text)\n",
    "tags = ','.join(tags)"
   ]
  },
  {
   "cell_type": "code",
   "execution_count": 10,
   "id": "e2fec3f7-4599-43c1-9267-9c5b440dc31a",
   "metadata": {},
   "outputs": [
    {
     "name": "stdout",
     "output_type": "stream",
     "text": [
      "Albert Einstein\n",
      "J.K. Rowling\n",
      "Albert Einstein\n",
      "Jane Austen\n",
      "Marilyn Monroe\n",
      "Albert Einstein\n",
      "André Gide\n",
      "Thomas A. Edison\n",
      "Eleanor Roosevelt\n",
      "Steve Martin\n"
     ]
    }
   ],
   "source": [
    "for i in soup.find_all('small', class_ = 'author'):\n",
    "    print(i.text)"
   ]
  }
 ],
 "metadata": {
  "kernelspec": {
   "display_name": "Python 3 (ipykernel)",
   "language": "python",
   "name": "python3"
  },
  "language_info": {
   "codemirror_mode": {
    "name": "ipython",
    "version": 3
   },
   "file_extension": ".py",
   "mimetype": "text/x-python",
   "name": "python",
   "nbconvert_exporter": "python",
   "pygments_lexer": "ipython3",
   "version": "3.12.7"
  }
 },
 "nbformat": 4,
 "nbformat_minor": 5
}
